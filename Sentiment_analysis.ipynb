{
 "cells": [
  {
   "cell_type": "markdown",
   "metadata": {},
   "source": [
    "# Imports"
   ]
  },
  {
   "cell_type": "code",
   "execution_count": 1,
   "metadata": {},
   "outputs": [],
   "source": [
    "import pandas as pd\n",
    "import tashaphyne.normalize as tn\n",
    "import emoji"
   ]
  },
  {
   "cell_type": "markdown",
   "metadata": {},
   "source": [
    "# Working with data"
   ]
  },
  {
   "cell_type": "markdown",
   "metadata": {},
   "source": [
    "## Reading Data\n",
    "store both positive and negative data into a dataframe<br> \n",
    "label them accordingly and then combine them<br>\n",
    "<b>Note:</b> the data will be shuffled later on.."
   ]
  },
  {
   "cell_type": "code",
   "execution_count": 2,
   "metadata": {},
   "outputs": [],
   "source": [
    "data_pos = pd.read_csv('pos.txt', sep=\"\\t\", header=None, names=[\"text\"])\n",
    "data_neg = pd.read_csv('neg.txt', sep=\"\\t\", header=None, names=[\"text\"])\n",
    "data_mixed = pd.read_csv('mixed.txt', sep=\"\\t\", header=None, names=[\"text\", 'label'])\n",
    "\n",
    "data_pos['label'] = 1\n",
    "data_neg['label'] = 0\n",
    "data_mixed['label'] = data_mixed['label'].map({'NEG': 0, 'POS': 1, 'OBJ': -1, 'NEUTRAL': -1})\n",
    "data_mixed['label'] = data_mixed['label'].astype('int')\n",
    "data_mixed.drop(data_mixed[data_mixed['label'] == -1].index, inplace=True)\n",
    "\n",
    "data = pd.concat([data_pos, data_neg, data_mixed]).reset_index(drop=True)"
   ]
  },
  {
   "cell_type": "markdown",
   "metadata": {},
   "source": [
    "## Data Preprocessing\n",
    "Removed punctuation, diacritics, emojies, numbers, links, hashtags, english letters, special characters, and normalized text"
   ]
  },
  {
   "cell_type": "code",
   "execution_count": 3,
   "metadata": {},
   "outputs": [],
   "source": [
    "import re\n",
    "import string\n",
    "from nltk.corpus import stopwords # list of stop words\n",
    "\n",
    "arabic_punctuations = '''`÷×؛<>_()*&^%][ـ،/:\"؟.,'{}~¦+|!”…“–ـ'''\n",
    "english_punctuations = string.punctuation\n",
    "punctuations_list = arabic_punctuations + english_punctuations\n",
    "\n",
    "arabic_diacritics = re.compile(\"\"\"\n",
    "                             ّ    | # Tashdid\n",
    "                             َ    | # Fatha\n",
    "                             ً    | # Tanwin Fath\n",
    "                             ُ    | # Damma\n",
    "                             ٌ    | # Tanwin Damm\n",
    "                             ِ    | # Kasra\n",
    "                             ٍ    | # Tanwin Kasr\n",
    "                             ْ    | # Sukun\n",
    "                             ـ     # Tatwil/Kashida\n",
    "                         \"\"\", re.VERBOSE)\n",
    "\n",
    "def normalize_arabic(text):\n",
    "    text = re.sub(\"[إأآا]\", \"ا\", text)\n",
    "    text = re.sub(\"ى\", \"ي\", text)\n",
    "    text = re.sub(\"يٰ\", \"ي\", text)\n",
    "    text = re.sub(\"ؤ\", \"ء\", text)\n",
    "    text = re.sub(\"ئ\", \"ء\", text)\n",
    "    text = re.sub(\"ة\", \"ه\", text)\n",
    "    text = re.sub(\"گ\", \"ك\", text)\n",
    "    return text\n",
    "\n",
    "def remove_diacritics(text):\n",
    "    text = re.sub(arabic_diacritics, '', text)\n",
    "    return text\n",
    "\n",
    "def remove_repeating_char(text):\n",
    "    return re.sub(r'(.)\\1+', r'\\1', text)\n",
    "\n",
    "def remove_punctuations(text):\n",
    "    translator = str.maketrans('', '', punctuations_list)\n",
    "    return text.translate(translator)\n",
    "\n",
    "def clean_text(text):\n",
    "    text = emoji.get_emoji_regexp().sub(u'', text)\n",
    "    text = re.sub(u\"[^\\w^\\u0600-\\u06FF]\", ' ', text)\n",
    "    \n",
    "    text = normalize_arabic(text)\n",
    "    text = remove_punctuations(text)\n",
    "    text = remove_diacritics(text)\n",
    "    text = remove_repeating_char(text)\n",
    "    \n",
    "    text = re.sub(\"[a-zA-Z_]\", \" \", text) # remove english letters\n",
    "    text = re.sub('\\n', ' ', text) # remove \\n from text\n",
    "    text = re.sub(r'\\d+', '', text) #remove number\n",
    "    text = re.sub(r'http\\S+', '', text) # remove links\n",
    "    text.replace(\"#\", \"\")# remove hash tags and \n",
    "    text.replace(\"_\", \" \")# remove underscores\n",
    "    text = text.strip() #remove whitespaces\n",
    "    text = ' '.join([word for word in text.split() if word not in stopwords.words(\"arabic\")]) # remove stop word\n",
    "    \n",
    "    text = tn.normalize_searchtext(text)\n",
    "    \n",
    "    return text"
   ]
  },
  {
   "cell_type": "code",
   "execution_count": 4,
   "metadata": {},
   "outputs": [
    {
     "name": "stdout",
     "output_type": "stream",
     "text": [
      "#ياارب كل ما انقبضت قلوبنا من هم الدنيا ذكرنا بالصبر الجميل وأنكك المستعاان ##صبااحﺢ_الخيرر 🍁\n",
      "وفي النهاية لن يبقىٰ معك آحدإلا من رأىٰ الجمال في روحك أماالمنبهرون بالمظا…\n"
     ]
    }
   ],
   "source": [
    "print(data['text'][1001])\n",
    "print(data['text'][1])"
   ]
  },
  {
   "cell_type": "code",
   "execution_count": 5,
   "metadata": {},
   "outputs": [],
   "source": [
    "data['text'] = data['text'].apply(clean_text)"
   ]
  },
  {
   "cell_type": "code",
   "execution_count": 6,
   "metadata": {},
   "outputs": [
    {
     "name": "stdout",
     "output_type": "stream",
     "text": [
      "يارب انقبضت قلوبنا الدنيا ذكرنا بالصبر الجميل وانك المستعان صباحﺢالخير\n",
      "وفي النهايه يبقي معك احدالا راي الجمال روحك امالمنبهرون بالمظا\n"
     ]
    }
   ],
   "source": [
    "print(data['text'][1001])\n",
    "print(data['text'][1])"
   ]
  },
  {
   "cell_type": "code",
   "execution_count": 7,
   "metadata": {},
   "outputs": [],
   "source": [
    "from sklearn.feature_extraction.text import TfidfVectorizer\n",
    "from sklearn.naive_bayes import MultinomialNB\n",
    "from sklearn.naive_bayes import BernoulliNB\n",
    "from sklearn.pipeline import Pipeline"
   ]
  },
  {
   "cell_type": "code",
   "execution_count": 8,
   "metadata": {},
   "outputs": [],
   "source": [
    "from sklearn.model_selection import train_test_split\n",
    "X_train, X_test, y_train, y_test = train_test_split(data['text'], data.label, test_size=0.2, random_state=43)"
   ]
  },
  {
   "cell_type": "markdown",
   "metadata": {},
   "source": [
    "# MultinomialNB"
   ]
  },
  {
   "cell_type": "code",
   "execution_count": 9,
   "metadata": {},
   "outputs": [],
   "source": [
    "modelM = MultinomialNB(alpha=0.05)\n",
    "\n",
    "pipeline = Pipeline([\n",
    "    ('tfidf', TfidfVectorizer(ngram_range=(1,2))),\n",
    "    ('model', modelM)\n",
    "])"
   ]
  },
  {
   "cell_type": "code",
   "execution_count": 10,
   "metadata": {},
   "outputs": [
    {
     "name": "stdout",
     "output_type": "stream",
     "text": [
      "accuracy: 80.02%\n"
     ]
    }
   ],
   "source": [
    "from sklearn.metrics import accuracy_score\n",
    "# Fitting the model\n",
    "modelM = pipeline.fit(X_train, y_train)\n",
    "# Accuracy\n",
    "prediction = modelM.predict(X_test)\n",
    "scoreM = round(accuracy_score(y_test, prediction)*100,2)\n",
    "print(\"accuracy: {}%\".format(scoreM))"
   ]
  },
  {
   "cell_type": "code",
   "execution_count": 26,
   "metadata": {},
   "outputs": [
    {
     "data": {
      "text/plain": [
       "0"
      ]
     },
     "execution_count": 26,
     "metadata": {},
     "output_type": "execute_result"
    }
   ],
   "source": [
    "text =['أكرة نفسي']\n",
    "pred = modelM.predict(text)\n",
    "pred[0]"
   ]
  },
  {
   "cell_type": "code",
   "execution_count": 12,
   "metadata": {},
   "outputs": [
    {
     "data": {
      "text/plain": [
       "1"
      ]
     },
     "execution_count": 12,
     "metadata": {},
     "output_type": "execute_result"
    }
   ],
   "source": [
    "text =['انا مرة سعيد اليوم']\n",
    "pred = modelM.predict(text)\n",
    "pred[0]"
   ]
  },
  {
   "cell_type": "markdown",
   "metadata": {},
   "source": [
    "# BernoulliNB"
   ]
  },
  {
   "cell_type": "code",
   "execution_count": 13,
   "metadata": {},
   "outputs": [],
   "source": [
    "modelB = BernoulliNB(alpha=0.05)\n",
    "\n",
    "pipeline = Pipeline([\n",
    "    ('tfidf', TfidfVectorizer(ngram_range=(1,2))),\n",
    "    ('model', modelB),\n",
    "])"
   ]
  },
  {
   "cell_type": "code",
   "execution_count": 14,
   "metadata": {},
   "outputs": [
    {
     "name": "stdout",
     "output_type": "stream",
     "text": [
      "accuracy: 79.61%\n"
     ]
    }
   ],
   "source": [
    "# Fitting the model\n",
    "modelB = pipeline.fit(X_train, y_train)\n",
    "# Accuracy\n",
    "prediction = modelB.predict(X_test)\n",
    "scorB = round(accuracy_score(y_test, prediction)*100,2)\n",
    "print(\"accuracy: {}%\".format(scorB))"
   ]
  },
  {
   "cell_type": "code",
   "execution_count": 27,
   "metadata": {},
   "outputs": [
    {
     "data": {
      "text/plain": [
       "0"
      ]
     },
     "execution_count": 27,
     "metadata": {},
     "output_type": "execute_result"
    }
   ],
   "source": [
    "text =['أكرة نفسي']\n",
    "pred = modelM.predict(text)\n",
    "pred[0]"
   ]
  },
  {
   "cell_type": "code",
   "execution_count": 16,
   "metadata": {},
   "outputs": [
    {
     "data": {
      "text/plain": [
       "1"
      ]
     },
     "execution_count": 16,
     "metadata": {},
     "output_type": "execute_result"
    }
   ],
   "source": [
    "text =['انا مرة سعيد اليوم']\n",
    "pred = modelM.predict(text)\n",
    "pred[0]"
   ]
  },
  {
   "cell_type": "markdown",
   "metadata": {},
   "source": [
    "# Visualize"
   ]
  },
  {
   "cell_type": "code",
   "execution_count": 17,
   "metadata": {},
   "outputs": [],
   "source": [
    "import numpy as np\n",
    "import matplotlib.pyplot as plt\n",
    "test_data = pd.concat([X_test, y_test], axis=1)\n",
    "\n",
    "positive = test_data[test_data['label'] == 1]\n",
    "negative = test_data[test_data['label'] == 0]\n",
    "\n",
    "X_positive = positive['text']\n",
    "y_positive = positive['label']\n",
    "\n",
    "X_negative = negative['text']\n",
    "y_negative = negative['label']"
   ]
  },
  {
   "cell_type": "markdown",
   "metadata": {},
   "source": [
    "### BernoulliNB"
   ]
  },
  {
   "cell_type": "code",
   "execution_count": 18,
   "metadata": {},
   "outputs": [],
   "source": [
    "# Accuracy on positive\n",
    "predPB = modelB.predict(X_positive)\n",
    "scorPos = round(accuracy_score(y_positive, predPB)*100,2)\n",
    "\n",
    "# Accuracy on negative\n",
    "predNB = modelB.predict(X_negative)\n",
    "scorNeg = round(accuracy_score(y_negative, predNB)*100,2)"
   ]
  },
  {
   "cell_type": "markdown",
   "metadata": {},
   "source": [
    "### Barchart"
   ]
  },
  {
   "cell_type": "code",
   "execution_count": 19,
   "metadata": {},
   "outputs": [
    {
     "data": {
      "image/png": "[encoded data removed]",
      "text/plain": [
       "<Figure size 2160x1296 with 1 Axes>"
      ]
     },
     "metadata": {
      "needs_background": "light"
     },
     "output_type": "display_data"
    }
   ],
   "source": [
    "N = 1\n",
    "ind = np.arange(N)  # the x locations for the groups\n",
    "width = 0.1       # the width of the bars\n",
    "\n",
    "fig = plt.figure(figsize=(30,18))\n",
    "ax = fig.add_subplot(111)\n",
    "\n",
    "yvals = [scorNeg]\n",
    "rects1 = ax.bar(ind, yvals, width, color='#a8dadc')\n",
    "zvals = [scorPos]\n",
    "rects2 = ax.bar(ind+width, zvals, width, color='#457b9d' )\n",
    "kvals = [scorB]\n",
    "rects3 = ax.bar(ind+width*2, kvals, width, color='#1d3557')\n",
    "\n",
    "ax.set_ylabel('percent', fontsize= 20)\n",
    "ax.set_xticks(ticks=ind+width)\n",
    "ax.set_xticklabels( ('Bernoulli NB', ) , fontsize= 20)\n",
    "ax.legend( (rects1[0], rects2[0], rects3[0]), ('negative', 'positive', 'average'), fontsize= 20 )\n",
    "\n",
    "def autolabel(rects):\n",
    "    for rect in rects:\n",
    "        h = rect.get_height()\n",
    "        ax.text(rect.get_x()+rect.get_width()/2., 1.005*h, (h),\n",
    "                ha='center', va='bottom', fontsize= 20)\n",
    "\n",
    "autolabel(rects1)\n",
    "autolabel(rects2)\n",
    "autolabel(rects3)\n",
    "\n",
    "plt.show()"
   ]
  },
  {
   "cell_type": "markdown",
   "metadata": {},
   "source": [
    "## MultinomialNB"
   ]
  },
  {
   "cell_type": "code",
   "execution_count": 20,
   "metadata": {},
   "outputs": [],
   "source": [
    "# Accuracy on positive\n",
    "predPM = modelM.predict(X_positive)\n",
    "scorPos = round(accuracy_score(y_positive, predPM)*100,2)\n",
    "\n",
    "# Accuracy on negative\n",
    "predNM = modelM.predict(X_negative)\n",
    "scorNeg = round(accuracy_score(y_negative, predNM)*100,2)"
   ]
  },
  {
   "cell_type": "code",
   "execution_count": 21,
   "metadata": {},
   "outputs": [
    {
     "data": {
      "image/png": "[encoded data removed]",
      "text/plain": [
       "<Figure size 2160x1296 with 1 Axes>"
      ]
     },
     "metadata": {
      "needs_background": "light"
     },
     "output_type": "display_data"
    }
   ],
   "source": [
    "N = 1\n",
    "ind = np.arange(N)  # the x locations for the groups\n",
    "width = 0.1       # the width of the bars\n",
    "\n",
    "fig = plt.figure(figsize=(30,18))\n",
    "ax = fig.add_subplot(111)\n",
    "\n",
    "yvals = [scorNeg]\n",
    "rects1 = ax.bar(ind, yvals, width, color='#a8dadc')\n",
    "zvals = [scorPos]\n",
    "rects2 = ax.bar(ind+width, zvals, width, color='#457b9d' )\n",
    "kvals = [scoreM]\n",
    "rects3 = ax.bar(ind+width*2, kvals, width, color='#1d3557')\n",
    "\n",
    "ax.set_ylabel('percent', fontsize= 20)\n",
    "ax.set_xticks(ticks=ind+width)\n",
    "ax.set_xticklabels( ('Multinomial NB', ) , fontsize= 20)\n",
    "ax.legend( (rects1[0], rects2[0], rects3[0]), ('negative', 'positive', 'average'), fontsize= 20 )\n",
    "\n",
    "def autolabel(rects):\n",
    "    for rect in rects:\n",
    "        h = rect.get_height()\n",
    "        ax.text(rect.get_x()+rect.get_width()/2., 1.005*h, (h),\n",
    "                ha='center', va='bottom', fontsize= 20)\n",
    "\n",
    "autolabel(rects1)\n",
    "autolabel(rects2)\n",
    "autolabel(rects3)\n",
    "\n",
    "plt.show()"
   ]
  },
  {
   "cell_type": "markdown",
   "metadata": {},
   "source": [
    "# Storing model"
   ]
  },
  {
   "cell_type": "code",
   "execution_count": 22,
   "metadata": {},
   "outputs": [],
   "source": [
    "import joblib"
   ]
  },
  {
   "cell_type": "code",
   "execution_count": 23,
   "metadata": {},
   "outputs": [
    {
     "data": {
      "text/plain": [
       "['modelmultinomialJoblib']"
      ]
     },
     "execution_count": 23,
     "metadata": {},
     "output_type": "execute_result"
    }
   ],
   "source": [
    "joblib.dump(modelM, 'modelmultinomialJoblib')"
   ]
  },
  {
   "cell_type": "code",
   "execution_count": 24,
   "metadata": {},
   "outputs": [],
   "source": [
    "mj = joblib.load('modelmultinomialJoblib')"
   ]
  },
  {
   "cell_type": "code",
   "execution_count": 28,
   "metadata": {},
   "outputs": [
    {
     "data": {
      "text/plain": [
       "0"
      ]
     },
     "execution_count": 28,
     "metadata": {},
     "output_type": "execute_result"
    }
   ],
   "source": [
    "test_text = ['اخ الحياة 😭']\n",
    "pred = mj.predict(test_text)\n",
    "pred[0]"
   ]
  }
 ],
 "metadata": {
  "kernelspec": {
   "display_name": "Python 3",
   "language": "python",
   "name": "python3"
  },
  "language_info": {
   "codemirror_mode": {
    "name": "ipython",
    "version": 3
   },
   "file_extension": ".py",
   "mimetype": "text/x-python",
   "name": "python",
   "nbconvert_exporter": "python",
   "pygments_lexer": "ipython3",
   "version": "3.8.3"
  }
 },
 "nbformat": 4,
 "nbformat_minor": 4
}
